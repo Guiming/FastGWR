{
 "cells": [
  {
   "cell_type": "code",
   "execution_count": 1,
   "metadata": {},
   "outputs": [],
   "source": [
    "import math\n",
    "import sys,os\n",
    "import numpy as np\n",
    "import pandas as pd\n",
    "\n",
    "sys.path.append('/Users/Ziqi/Downloads/mgwr/')\n",
    "from gwr.gwr import GWR,GWRResults\n",
    "from gwr.sel_bw import Sel_BW\n",
    "from spglm.family import Gaussian, Poisson, Binomial"
   ]
  },
  {
   "cell_type": "code",
   "execution_count": 2,
   "metadata": {},
   "outputs": [
    {
     "data": {
      "text/html": [
       "<div>\n",
       "<style scoped>\n",
       "    .dataframe tbody tr th:only-of-type {\n",
       "        vertical-align: middle;\n",
       "    }\n",
       "\n",
       "    .dataframe tbody tr th {\n",
       "        vertical-align: top;\n",
       "    }\n",
       "\n",
       "    .dataframe thead th {\n",
       "        text-align: right;\n",
       "    }\n",
       "</style>\n",
       "<table border=\"1\" class=\"dataframe\">\n",
       "  <thead>\n",
       "    <tr style=\"text-align: right;\">\n",
       "      <th></th>\n",
       "      <th>utmX</th>\n",
       "      <th>utmY</th>\n",
       "      <th>value</th>\n",
       "      <th>nbaths</th>\n",
       "      <th>nbeds</th>\n",
       "      <th>area</th>\n",
       "      <th>age</th>\n",
       "    </tr>\n",
       "  </thead>\n",
       "  <tbody>\n",
       "    <tr>\n",
       "      <th>0</th>\n",
       "      <td>379979.957285</td>\n",
       "      <td>3.752562e+06</td>\n",
       "      <td>87.397</td>\n",
       "      <td>2.0</td>\n",
       "      <td>3.0</td>\n",
       "      <td>1311.0</td>\n",
       "      <td>61.0</td>\n",
       "    </tr>\n",
       "    <tr>\n",
       "      <th>1</th>\n",
       "      <td>411210.623578</td>\n",
       "      <td>3.762339e+06</td>\n",
       "      <td>121.211</td>\n",
       "      <td>2.0</td>\n",
       "      <td>4.0</td>\n",
       "      <td>1200.0</td>\n",
       "      <td>62.0</td>\n",
       "    </tr>\n",
       "    <tr>\n",
       "      <th>2</th>\n",
       "      <td>400287.486356</td>\n",
       "      <td>3.743925e+06</td>\n",
       "      <td>76.145</td>\n",
       "      <td>1.0</td>\n",
       "      <td>2.0</td>\n",
       "      <td>724.0</td>\n",
       "      <td>70.0</td>\n",
       "    </tr>\n",
       "    <tr>\n",
       "      <th>3</th>\n",
       "      <td>391029.680899</td>\n",
       "      <td>3.776406e+06</td>\n",
       "      <td>136.320</td>\n",
       "      <td>2.0</td>\n",
       "      <td>3.0</td>\n",
       "      <td>1890.0</td>\n",
       "      <td>54.0</td>\n",
       "    </tr>\n",
       "    <tr>\n",
       "      <th>4</th>\n",
       "      <td>371824.111160</td>\n",
       "      <td>3.750099e+06</td>\n",
       "      <td>100.499</td>\n",
       "      <td>4.0</td>\n",
       "      <td>5.0</td>\n",
       "      <td>2166.0</td>\n",
       "      <td>71.0</td>\n",
       "    </tr>\n",
       "  </tbody>\n",
       "</table>\n",
       "</div>"
      ],
      "text/plain": [
       "            utmX          utmY    value  nbaths  nbeds    area   age\n",
       "0  379979.957285  3.752562e+06   87.397     2.0    3.0  1311.0  61.0\n",
       "1  411210.623578  3.762339e+06  121.211     2.0    4.0  1200.0  62.0\n",
       "2  400287.486356  3.743925e+06   76.145     1.0    2.0   724.0  70.0\n",
       "3  391029.680899  3.776406e+06  136.320     2.0    3.0  1890.0  54.0\n",
       "4  371824.111160  3.750099e+06  100.499     4.0    5.0  2166.0  71.0"
      ]
     },
     "execution_count": 2,
     "metadata": {},
     "output_type": "execute_result"
    }
   ],
   "source": [
    "zillow = pd.read_csv(\"Zillow-test-dataset/zillow_5k.csv\",sep=',')\n",
    "zillow.head()"
   ]
  },
  {
   "cell_type": "code",
   "execution_count": 3,
   "metadata": {},
   "outputs": [],
   "source": [
    "#Converting things into matrices\n",
    "y = zillow.value.as_matrix().reshape(-1,1)\n",
    "X = zillow.iloc[:,3:].as_matrix()\n",
    "k = zillow.shape[1]\n",
    "u = zillow.utmX\n",
    "v = zillow.utmY\n",
    "n = zillow.shape[0]\n",
    "coords = list(zip(u,v))"
   ]
  },
  {
   "cell_type": "code",
   "execution_count": 4,
   "metadata": {},
   "outputs": [
    {
     "name": "stdout",
     "output_type": "stream",
     "text": [
      "CPU times: user 26.4 s, sys: 1.72 s, total: 28.1 s\n",
      "Wall time: 16.7 s\n"
     ]
    }
   ],
   "source": [
    "%%time\n",
    "bw = 500\n",
    "pysal_Result=GWR(coords,y,X,bw).fit()"
   ]
  },
  {
   "cell_type": "code",
   "execution_count": null,
   "metadata": {},
   "outputs": [
    {
     "name": "stdout",
     "output_type": "stream",
     "text": [
      "Starting FastGWR with 1 Processors\n",
      "Data Input Path: Zillow-test-dataset/zillow_5k.csv\n",
      "Output Result Path: results.csv\n",
      "Constant: True\n",
      "Spatial Kernel: Adaptive Bisquare\n",
      "Fitting GWR Using Bandwidth: 500\n",
      "Diagnostic Information:\n",
      "AICc: 62399.20315246709\n",
      "ENP: 132.5582097758877\n",
      "R2: 0.6986624931885277\n",
      "Total Time Elapsed: 3.09 seconds\n"
     ]
    }
   ],
   "source": [
    "#Running FastGWR 1 Processor\n",
    "!mpiexec -np 1 python fastgwr-mpi.py -data Zillow-test-dataset/zillow_5k.csv -out results.csv -a -c -bw 500"
   ]
  },
  {
   "cell_type": "code",
   "execution_count": null,
   "metadata": {},
   "outputs": [],
   "source": [
    "#Running FastGWR 2 Processor\n",
    "!mpiexec -np 2 python fastgwr-mpi.py -data Zillow-test-dataset/zillow_5k.csv -out results.csv -a -c -bw 500"
   ]
  },
  {
   "cell_type": "code",
   "execution_count": null,
   "metadata": {},
   "outputs": [],
   "source": [
    "print(\"pysal AICc:\", pysal_Result.aicc)\n",
    "print(\"pysal R2:\",pysal_Result.R2)"
   ]
  },
  {
   "cell_type": "code",
   "execution_count": null,
   "metadata": {},
   "outputs": [],
   "source": [
    "fastGWR_result = pd.read_csv(\"results.csv\")\n",
    "fastGWR_result.head()"
   ]
  },
  {
   "cell_type": "code",
   "execution_count": null,
   "metadata": {},
   "outputs": [],
   "source": [
    "#Validate residual\n",
    "np.allclose(fastGWR_result.residual,pysal_Result.resid_response.reshape(-1),atol=1e-4)"
   ]
  },
  {
   "cell_type": "code",
   "execution_count": null,
   "metadata": {},
   "outputs": [],
   "source": [
    "#Validate Params\n",
    "np.allclose(np.array(fastGWR_result.iloc[:,3:8]),pysal_Result.params,atol=1e-3)"
   ]
  },
  {
   "cell_type": "code",
   "execution_count": null,
   "metadata": {},
   "outputs": [],
   "source": [
    "#Validate SEs\n",
    "np.allclose(np.array(fastGWR_result.iloc[:,8:13]),pysal_Result.bse,rtol=1e-2)"
   ]
  },
  {
   "cell_type": "code",
   "execution_count": null,
   "metadata": {},
   "outputs": [],
   "source": []
  },
  {
   "cell_type": "code",
   "execution_count": null,
   "metadata": {},
   "outputs": [],
   "source": []
  }
 ],
 "metadata": {
  "kernelspec": {
   "display_name": "Python [conda root]",
   "language": "python",
   "name": "conda-root-py"
  },
  "language_info": {
   "codemirror_mode": {
    "name": "ipython",
    "version": 3
   },
   "file_extension": ".py",
   "mimetype": "text/x-python",
   "name": "python",
   "nbconvert_exporter": "python",
   "pygments_lexer": "ipython3",
   "version": "3.5.4"
  }
 },
 "nbformat": 4,
 "nbformat_minor": 2
}
